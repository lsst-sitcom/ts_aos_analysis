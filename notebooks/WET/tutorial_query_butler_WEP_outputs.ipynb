{
 "cells": [
  {
   "cell_type": "markdown",
   "metadata": {},
   "source": [
    "# Querying butler WEP outputs"
   ]
  },
  {
   "cell_type": "markdown",
   "metadata": {},
   "source": [
    "Owner: **Guillem Megias** ([@gmegh](https://github.com/lsst-ts/ts_aos_analysis/issues/new?body=@gmegh)) \n",
    "\n",
    "Last Verified to Run: **2024-08-22**\n",
    "\n",
    "Software Versions:\n",
    "* lsst_distrib: **w_2024_32**\n",
    "\n",
    "Requirements:\n",
    "* [summit_utils](https://github.com/lsst-sitcom/summit_utils)\n",
    "\n",
    "\n",
    "## Notebook Objective\n",
    "The goal of this notebook is to show the user how to query and access basic Wavefront Estimation Pipeline (WEP) outputs from the butler. \n",
    "\n",
    "## Logistics\n",
    "This notebook can be run from USDF or the Summit. The current version uses some collections present in the summit butler, if they have been wiped by the time you run this notebook, you will have to use a different collection and/or the butler in USDF. \n",
    "\n",
    "If running from USDF the following butler and collections are recommended as an example:\n",
    "* collection: 'sitcomtn-135/directDetectTimingTest_SourceLimit5'\n",
    "* butler: '/sdf/data/rubin/repo/aos_imsim'\n",
    "\n",
    "## Imports"
   ]
  },
  {
   "cell_type": "code",
   "execution_count": 1,
   "metadata": {
    "tags": []
   },
   "outputs": [
    {
     "name": "stderr",
     "output_type": "stream",
     "text": [
      "/cvmfs/sw.lsst.eu/linux-x86_64/lsst_distrib/w_2024_32/conda/envs/lsst-scipipe-9.0.0-exact-ext/lib/python3.11/site-packages/paramiko/pkey.py:100: CryptographyDeprecationWarning: TripleDES has been moved to cryptography.hazmat.decrepit.ciphers.algorithms.TripleDES and will be removed from this module in 48.0.0.\n",
      "  \"cipher\": algorithms.TripleDES,\n",
      "/cvmfs/sw.lsst.eu/linux-x86_64/lsst_distrib/w_2024_32/conda/envs/lsst-scipipe-9.0.0-exact-ext/lib/python3.11/site-packages/paramiko/transport.py:259: CryptographyDeprecationWarning: TripleDES has been moved to cryptography.hazmat.decrepit.ciphers.algorithms.TripleDES and will be removed from this module in 48.0.0.\n",
      "  \"class\": algorithms.TripleDES,\n"
     ]
    }
   ],
   "source": [
    "import numpy as np\n",
    "import matplotlib.pyplot as plt\n",
    "import astropy.io.fits as pf\n",
    "from lsst.daf.butler import Butler\n",
    "from lsst.ip.isr import IsrTask, IsrTaskConfig\n",
    "from matplotlib.colors import LogNorm\n",
    "import matplotlib.pyplot as plt\n",
    "from lsst.summit.utils.plotting import plot\n",
    "%matplotlib inline"
   ]
  },
  {
   "cell_type": "markdown",
   "metadata": {},
   "source": [
    "## Setting up the butler and collections from mtaos runs"
   ]
  },
  {
   "cell_type": "code",
   "execution_count": 3,
   "metadata": {
    "scrolled": true,
    "tags": []
   },
   "outputs": [],
   "source": [
    "collections = ['mtaos_wep_Script:102889_20240502T042949505']\n",
    "\n",
    "butler = Butler('/repo/LSSTComCam', collections=collections)\n",
    "registry = butler.registry"
   ]
  },
  {
   "cell_type": "markdown",
   "metadata": {},
   "source": [
    "## Get PostISR and plot exposure"
   ]
  },
  {
   "cell_type": "code",
   "execution_count": 4,
   "metadata": {},
   "outputs": [],
   "source": [
    "postisr = list(registry.queryDatasets('postISRCCD', collections=collections, detector = 0))\n",
    "exposure_ids = np.array([data.dataId['exposure'] for data in postisr])\n",
    "exposure = butler.get(postisr[0])"
   ]
  },
  {
   "cell_type": "code",
   "execution_count": null,
   "metadata": {},
   "outputs": [],
   "source": [
    "fig = plt.figure(figsize=(10, 10))\n",
    "_ = plot(exposure, figure=fig, stretch='ccs')"
   ]
  },
  {
   "cell_type": "markdown",
   "metadata": {},
   "source": [
    "### Plot intra focal postISRCCDs for each detector"
   ]
  },
  {
   "cell_type": "code",
   "execution_count": null,
   "metadata": {},
   "outputs": [],
   "source": [
    "plt.figure(figsize = (10, 10))\n",
    "for selected_detector in range(9):\n",
    "    plt.subplot(3,3, selected_detector + 1)\n",
    "    list_of_postisrs = list(registry.queryDatasets('postISRCCD', collections=collections, detector = selected_detector, exposure = np.min(exposure_ids)))\n",
    "    plt.imshow(butler.get(list_of_postisrs[0]).image.array, norm=LogNorm(vmax = 3e3), cmap = 'gray')\n",
    "    plt.title(f'Detector {selected_detector + 1} - Intra focal')\n",
    "    plt.xlabel('pixels')\n",
    "    plt.ylabel('pixels')\n",
    "\n",
    "plt.tight_layout()\n"
   ]
  },
  {
   "cell_type": "markdown",
   "metadata": {},
   "source": [
    "### Plot extra focal postISRCCDs for each detector"
   ]
  },
  {
   "cell_type": "code",
   "execution_count": null,
   "metadata": {},
   "outputs": [],
   "source": [
    "plt.figure(figsize = (10, 10))\n",
    "for selected_detector in range(9):\n",
    "    plt.subplot(3,3, selected_detector + 1)\n",
    "    list_of_postisrs = list(registry.queryDatasets('postISRCCD', collections=collections, detector = selected_detector, exposure = np.max(exposure_ids)))\n",
    "    plt.imshow(butler.get(list_of_postisrs[0]).image.array, norm=LogNorm(vmax = 3e3), cmap = 'gray')\n",
    "    plt.title(f'Detector {selected_detector + 1} - Extra focal')\n",
    "    plt.xlabel('pixels')\n",
    "    plt.ylabel('pixels')\n",
    "\n",
    "plt.tight_layout()"
   ]
  },
  {
   "cell_type": "markdown",
   "metadata": {
    "execution": {
     "iopub.execute_input": "2024-05-06T15:30:01.981468Z",
     "iopub.status.busy": "2024-05-06T15:30:01.980928Z",
     "iopub.status.idle": "2024-05-06T15:30:02.651335Z",
     "shell.execute_reply": "2024-05-06T15:30:02.650758Z",
     "shell.execute_reply.started": "2024-05-06T15:30:01.981437Z"
    }
   },
   "source": [
    "## Donut Stamps\n",
    "\n",
    "### Donut stamps object"
   ]
  },
  {
   "cell_type": "code",
   "execution_count": 7,
   "metadata": {
    "execution": {
     "iopub.execute_input": "2024-08-22T14:22:14.404410Z",
     "iopub.status.busy": "2024-08-22T14:22:14.404036Z",
     "iopub.status.idle": "2024-08-22T14:22:14.886060Z",
     "shell.execute_reply": "2024-08-22T14:22:14.885187Z",
     "shell.execute_reply.started": "2024-08-22T14:22:14.404382Z"
    }
   },
   "outputs": [
    {
     "name": "stdout",
     "output_type": "stream",
     "text": [
      "DonutStamp(stamp_im=lsst.afw.image._maskedImage.MaskedImageF=(image=[[ -4.731903    18.62201     16.953766   ... -11.362457     3.6515808\n",
      "    3.6523743 ]\n",
      " [ 48.97763     -1.0666504    5.605835   ... -26.04692     -6.0284424\n",
      "   40.680237  ]\n",
      " [ 31.960602     5.2703247   13.610962   ...  23.661438    20.325958\n",
      "    0.30908203]\n",
      " ...\n",
      " [ -6.791687    16.56192     -6.7924194  ...  13.240967    41.600067\n",
      "   14.9105835 ]\n",
      " [ 11.279266    14.615204     7.9422607  ...  54.66574      6.2904663\n",
      "   -5.385803  ]\n",
      " [  8.218292    19.894897     4.8812866  ...  14.905579     8.233765\n",
      "   11.570801  ]],\n",
      "mask=[[0 0 0 ... 0 0 0]\n",
      " [0 0 0 ... 0 0 0]\n",
      " [0 0 0 ... 0 0 0]\n",
      " ...\n",
      " [0 0 0 ... 0 0 0]\n",
      " [0 0 0 ... 0 0 0]\n",
      " [0 0 0 ... 0 0 0]], maskPlaneDict={'BAD': 0, 'CR': 3, 'DETECTED': 5, 'DETECTED_NEGATIVE': 6, 'EDGE': 4, 'INTRP': 2, 'NO_DATA': 8, 'SAT': 1, 'SUSPECT': 7}\n",
      "variance=[[0. 0. 0. ... 0. 0. 0.]\n",
      " [0. 0. 0. ... 0. 0. 0.]\n",
      " [0. 0. 0. ... 0. 0. 0.]\n",
      " ...\n",
      " [0. 0. 0. ... 0. 0. 0.]\n",
      " [0. 0. 0. ... 0. 0. 0.]\n",
      " [0. 0. 0. ... 0. 0. 0.]], bbox=(minimum=(3352, 2772), maximum=(3511, 2931))), sky_position=SpherePoint(291.655927839776*degrees, -81.5486917417872*degrees), centroid_position=Point2D(3432, 2852), blend_centroid_positions=array([[nan, nan]]), defocal_type='intra', defocal_distance=1.5, detector_name='R22_S02', cam_name='LSSTComCamSim', bandpass='g', archive_element=FITS standard SkyWcs:\n",
      "Sky Origin: (291.6542665039, -81.5481590490)\n",
      "Pixel Origin: (3432, 2852)\n",
      "Pixel Scale: 0.200038 arcsec/pixel, wep_im=<lsst.ts.wep.image.Image object at 0x7f366658ed50>)\n"
     ]
    }
   ],
   "source": [
    "selected_detector = 2\n",
    "list_stamps_cutout = list(registry.queryDatasets(\"donutStampsIntra\", collections=collections, detector = selected_detector))\n",
    "list_of_stamps = butler.get(list_stamps_cutout[0])\n",
    "\n",
    "# print what's inside of a donut stamp\n",
    "print(list_of_stamps[0])"
   ]
  },
  {
   "cell_type": "markdown",
   "metadata": {},
   "source": [
    "### Intra focal stamps"
   ]
  },
  {
   "cell_type": "code",
   "execution_count": null,
   "metadata": {
    "scrolled": true
   },
   "outputs": [],
   "source": [
    "for selected_detector in range(9):\n",
    "    list_stamps_cutout = list(registry.queryDatasets(\"donutStampsIntra\", collections=collections, detector = selected_detector))\n",
    "    list_of_stamps = butler.get(list_stamps_cutout[0])\n",
    "    total_stamps = len(list_of_stamps)\n",
    "    \n",
    "    plt.figure(figsize = (17,4))\n",
    "    for idx in range(total_stamps):\n",
    "        plt.subplot((total_stamps // 25) + 1, 25, idx + 1)\n",
    "        plt.imshow(list_of_stamps[idx].stamp_im.image.array)\n",
    "        plt.axis('off') \n",
    "    \n",
    "    plt.suptitle(f\"Intra stamps - Detector {selected_detector + 1}\")\n",
    "    plt.tight_layout()"
   ]
  },
  {
   "cell_type": "markdown",
   "metadata": {},
   "source": [
    "### Extra focal stamps"
   ]
  },
  {
   "cell_type": "code",
   "execution_count": null,
   "metadata": {},
   "outputs": [],
   "source": [
    "for selected_detector in range(9):\n",
    "    list_stamps_cutout = list(registry.queryDatasets(\"donutStampsExtra\", collections=collections, detector = selected_detector))\n",
    "    list_of_stamps = butler.get(list_stamps_cutout[0])\n",
    "    total_stamps = len(list_of_stamps)\n",
    "    \n",
    "    plt.figure(figsize = (17,4))\n",
    "    for idx in range(total_stamps):\n",
    "        plt.subplot((total_stamps // 25) + 1, 25, idx + 1)\n",
    "        plt.imshow(list_of_stamps[idx].stamp_im.image.array)\n",
    "        plt.axis('off') \n",
    "    \n",
    "    plt.suptitle(f\"Extra stamps - Detector {selected_detector + 1}\")\n",
    "    plt.tight_layout()"
   ]
  },
  {
   "cell_type": "markdown",
   "metadata": {},
   "source": [
    "## Zernike estimates from WEP\n"
   ]
  },
  {
   "cell_type": "code",
   "execution_count": null,
   "metadata": {},
   "outputs": [],
   "source": [
    "detectors_label = ['R22_S00', 'R22_S01', 'R22_S02', 'R22_S10', 'R22_S11', 'R22_S12', 'R22_S20', 'R22_S21', 'R22_S22']     \n",
    "\n",
    "# Create a figure and subplots with shared x and y axes\n",
    "fig, axs = plt.subplots(3, 3, figsize=(15, 10), sharex=True, sharey=True)\n",
    "zk_avg = np.zeros((6,9,19))\n",
    "for detector, ax in enumerate(axs.flatten()):\n",
    "    list_of_collection_estimates = list(registry.queryDatasets('zernikeEstimateAvg', detector = detector))\n",
    "    for idx, element in enumerate(list_of_collection_estimates):\n",
    "        data = butler.get(element)  # Assuming this returns the data to be plotted\n",
    "        zk_avg[idx, detector, :] = data\n",
    "        ax.plot(data, '.', label=element.run)\n",
    "        \n",
    "    ax.set_title(f'Detector {detector + 1} - {detectors_label[detector]} ')\n",
    "\n",
    "    # Label only the bottom row and the leftmost column\n",
    "    if detector % 3 == 0:  # First column\n",
    "        ax.set_ylabel('um')\n",
    "    if detector >= 6:  # Bottom row\n",
    "        ax.set_xlabel('Zernike Noll Index')\n",
    "        \n",
    "\n",
    "plt.tight_layout()\n",
    "plt.show()"
   ]
  }
 ],
 "metadata": {
  "kernelspec": {
   "display_name": "Python [conda env:lsst-scipipe-9.0.0-exact-ext] *",
   "language": "python",
   "name": "conda-env-lsst-scipipe-9.0.0-exact-ext-py"
  },
  "language_info": {
   "codemirror_mode": {
    "name": "ipython",
    "version": 3
   },
   "file_extension": ".py",
   "mimetype": "text/x-python",
   "name": "python",
   "nbconvert_exporter": "python",
   "pygments_lexer": "ipython3",
   "version": "3.11.9"
  }
 },
 "nbformat": 4,
 "nbformat_minor": 4
}

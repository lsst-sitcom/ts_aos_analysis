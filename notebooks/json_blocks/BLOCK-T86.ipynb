{
 "cells": [
  {
   "cell_type": "markdown",
   "id": "3cb10db0-fa23-4436-baea-cfa130f90b6e",
   "metadata": {},
   "source": [
    "Azimuth LUT -> https://rubinobs.atlassian.net/projects/BLOCK?selectedItem=com.atlassian.plugins.atlassian-connect-plugin:com.kanoah.test-manager__main-project-page#!/testCase/BLOCK-T74"
   ]
  },
  {
   "cell_type": "markdown",
   "id": "650a41d8-8d10-4dd8-88df-a451c7d38d59",
   "metadata": {},
   "source": [
    "***"
   ]
  },
  {
   "cell_type": "markdown",
   "id": "ba8f64a2-1206-4c31-92f7-d54cd6676f5b",
   "metadata": {},
   "source": [
    "Using configurable block"
   ]
  },
  {
   "cell_type": "code",
   "execution_count": 1,
   "id": "1e1ad851-fe21-4f10-9c67-965b2d5ca435",
   "metadata": {
    "execution": {
     "iopub.execute_input": "2024-08-14T19:28:03.503664Z",
     "iopub.status.busy": "2024-08-14T19:28:03.503494Z",
     "iopub.status.idle": "2024-08-14T19:28:03.624842Z",
     "shell.execute_reply": "2024-08-14T19:28:03.624086Z",
     "shell.execute_reply.started": "2024-08-14T19:28:03.503647Z"
    }
   },
   "outputs": [],
   "source": [
    "from lsst.ts.observing import ObservingBlock, ObservingScript "
   ]
  },
  {
   "cell_type": "code",
   "execution_count": 2,
   "id": "25e5564f-ab6c-4456-b529-0446c2015e2b",
   "metadata": {
    "execution": {
     "iopub.execute_input": "2024-08-14T19:28:03.627289Z",
     "iopub.status.busy": "2024-08-14T19:28:03.627145Z",
     "iopub.status.idle": "2024-08-14T19:28:03.630689Z",
     "shell.execute_reply": "2024-08-14T19:28:03.629830Z",
     "shell.execute_reply.started": "2024-08-14T19:28:03.627276Z"
    }
   },
   "outputs": [],
   "source": [
    "name = \"BLOCK-T74\"\n",
    "program = \"BLOCK-T74\"\n",
    "reason = \"SITCOM-1490\"\n",
    "constraints = []\n",
    "scripts = []"
   ]
  },
  {
   "cell_type": "markdown",
   "id": "b89a1677-1e81-4cf1-8356-3a4b1a14ad20",
   "metadata": {},
   "source": [
    "Here we define the configuration_schema we will use to setup the configurable parts of the block. Note that it is a string"
   ]
  },
  {
   "cell_type": "markdown",
   "id": "1991d032-3bc8-43aa-9d3c-59091508cf33",
   "metadata": {},
   "source": [
    "This is a conveninence function that chatGPT helped me build for the configuration schema"
   ]
  },
  {
   "cell_type": "code",
   "execution_count": 3,
   "id": "a8aabb93-dcaa-447b-88b3-d1c6e6cd2c23",
   "metadata": {
    "execution": {
     "iopub.execute_input": "2024-08-14T19:28:03.634012Z",
     "iopub.status.busy": "2024-08-14T19:28:03.633788Z",
     "iopub.status.idle": "2024-08-14T19:28:03.640017Z",
     "shell.execute_reply": "2024-08-14T19:28:03.639251Z",
     "shell.execute_reply.started": "2024-08-14T19:28:03.633990Z"
    }
   },
   "outputs": [],
   "source": [
    "def build_configuration_schema(block_number, properties):\n",
    "    \"\"\"\n",
    "    Builds a configuration schema string for a given BLOCK and configurable properties.\n",
    "\n",
    "    :param block_number: The BLOCK number to include in the title and description.\n",
    "    :param properties: A dictionary where each key is a property name, and each value is a dictionary\n",
    "                       with keys 'description', 'type', and optionally 'default'.\n",
    "    :return: A formatted configuration schema string.\n",
    "    \"\"\"\n",
    "    # Define the base schema with the BLOCK number\n",
    "    configuration_schema = (\n",
    "        '$schema: http://json-schema.org/draft-07/schema#\\n'\n",
    "        f'title: BLOCK-{block_number} configuration\\n'\n",
    "        f'description: Configuration for BLOCK-{block_number}.\\n'\n",
    "        'type: object\\n'\n",
    "        'properties:\\n'\n",
    "    )\n",
    "\n",
    "    # Add each property to the schema\n",
    "    for prop_name, prop_details in properties.items():\n",
    "        configuration_schema += f'  {prop_name}:\\n'\n",
    "        configuration_schema += f'    description: {prop_details[\"description\"]}\\n'\n",
    "        configuration_schema += f'    type: {prop_details[\"type\"]}\\n'\n",
    "        if \"default\" in prop_details:\n",
    "            # Add quotes around the default value if it's a string\n",
    "            default_value = prop_details[\"default\"]\n",
    "            if prop_details[\"type\"] == \"string\":\n",
    "                default_value = f'\"{default_value}\"'\n",
    "            configuration_schema += f'    default: {default_value}\\n'\n",
    "\n",
    "    return configuration_schema"
   ]
  },
  {
   "cell_type": "code",
   "execution_count": 4,
   "id": "f5e533ff-3675-49e9-8dd9-9e94013d4cab",
   "metadata": {
    "execution": {
     "iopub.execute_input": "2024-08-14T19:28:03.643248Z",
     "iopub.status.busy": "2024-08-14T19:28:03.643031Z",
     "iopub.status.idle": "2024-08-14T19:28:03.648083Z",
     "shell.execute_reply": "2024-08-14T19:28:03.647430Z",
     "shell.execute_reply.started": "2024-08-14T19:28:03.643227Z"
    }
   },
   "outputs": [
    {
     "name": "stdout",
     "output_type": "stream",
     "text": [
      "$schema: http://json-schema.org/draft-07/schema#\n",
      "title: BLOCK-T74 configuration\n",
      "description: Configuration for BLOCK-T74.\n",
      "type: object\n",
      "properties:\n",
      "  run_filter:\n",
      "    description: ComCam filter to use.\n",
      "    type: string\n",
      "    default: \"r_03\"\n",
      "  run_elevation:\n",
      "    description: Elevation to use for the azimuth sweep.\n",
      "    type: number\n",
      "    default: 80\n",
      "\n"
     ]
    }
   ],
   "source": [
    "# Define the configurable properties that we will use in the configuration schema\n",
    "properties = {\n",
    "    \"run_filter\": {\n",
    "        \"description\": \"ComCam filter to use.\",\n",
    "        \"type\": \"string\",\n",
    "        \"default\": \"r_03\"\n",
    "    },\n",
    "    \"run_elevation\": {\n",
    "        \"description\": \"Elevation to use for the azimuth sweep.\",\n",
    "        \"type\": \"number\",\n",
    "        \"default\": 80\n",
    "    }\n",
    "}\n",
    "\n",
    "# Build the configuration schema for BLOCK-404\n",
    "block_number = 'T74'\n",
    "configuration_schema = build_configuration_schema(block_number, properties)\n",
    "\n",
    "# Print the resulting configuration schema\n",
    "print(configuration_schema)"
   ]
  },
  {
   "cell_type": "code",
   "execution_count": 5,
   "id": "8a4ec128-0ece-4dd8-8442-0a62cad90a17",
   "metadata": {
    "execution": {
     "iopub.execute_input": "2024-08-14T19:28:03.651119Z",
     "iopub.status.busy": "2024-08-14T19:28:03.650917Z",
     "iopub.status.idle": "2024-08-14T19:28:03.655171Z",
     "shell.execute_reply": "2024-08-14T19:28:03.654407Z",
     "shell.execute_reply.started": "2024-08-14T19:28:03.651100Z"
    }
   },
   "outputs": [],
   "source": [
    "azimuth_positions = [-180, -150, -120, -90, -60, -30, 0, 30, 60, 90, 120, 150, 180]"
   ]
  },
  {
   "cell_type": "code",
   "execution_count": 6,
   "id": "62d59a22-4fe2-4db7-97df-f930762eb498",
   "metadata": {
    "execution": {
     "iopub.execute_input": "2024-08-14T19:28:03.658493Z",
     "iopub.status.busy": "2024-08-14T19:28:03.658292Z",
     "iopub.status.idle": "2024-08-14T19:28:03.662480Z",
     "shell.execute_reply": "2024-08-14T19:28:03.661741Z",
     "shell.execute_reply.started": "2024-08-14T19:28:03.658474Z"
    }
   },
   "outputs": [],
   "source": [
    "comcam_triplets_script = ObservingScript(\n",
    "    name=\"maintel/take_triplet_comcam.py\",\n",
    "    standard=True,\n",
    "    parameters= dict(\n",
    "        filter=\"$run_filter\",\n",
    "        program=program,\n",
    "        reason=reason\n",
    "    )\n",
    ")"
   ]
  },
  {
   "cell_type": "code",
   "execution_count": 7,
   "id": "8e3da280-0524-4e05-917e-eaf0fe21ebec",
   "metadata": {
    "execution": {
     "iopub.execute_input": "2024-08-14T19:28:03.665814Z",
     "iopub.status.busy": "2024-08-14T19:28:03.665539Z",
     "iopub.status.idle": "2024-08-14T19:28:03.669302Z",
     "shell.execute_reply": "2024-08-14T19:28:03.668709Z",
     "shell.execute_reply.started": "2024-08-14T19:28:03.665790Z"
    }
   },
   "outputs": [],
   "source": [
    "stop_tracking_script = ObservingScript(\n",
    "    name=\"maintel/stop_tracking.py\",\n",
    "    standard=True,\n",
    "    parameters = dict()\n",
    ")"
   ]
  },
  {
   "cell_type": "code",
   "execution_count": 8,
   "id": "fb4b8af7-7536-42ec-91df-4c1af9e383f2",
   "metadata": {
    "execution": {
     "iopub.execute_input": "2024-08-14T19:28:03.672566Z",
     "iopub.status.busy": "2024-08-14T19:28:03.672346Z",
     "iopub.status.idle": "2024-08-14T19:28:03.677154Z",
     "shell.execute_reply": "2024-08-14T19:28:03.676377Z",
     "shell.execute_reply.started": "2024-08-14T19:28:03.672544Z"
    }
   },
   "outputs": [],
   "source": [
    "for azimuth in azimuth_positions:\n",
    "    track_target_script = ObservingScript(\n",
    "        name=\"maintel/track_target.py\",\n",
    "        standard=True,\n",
    "        parameters = dict(\n",
    "            track_azel = dict(\n",
    "                az = azimuth,\n",
    "                el = \"$run_elevation\"\n",
    "            )\n",
    "        )\n",
    "    )\n",
    "\n",
    "    scripts.append(track_target_script)\n",
    "    scripts.append(comcam_triplets_script)\n",
    "scripts.append(stop_tracking_script)"
   ]
  },
  {
   "cell_type": "code",
   "execution_count": 9,
   "id": "339b62d4-7477-424a-8cef-dcfc3a3f03a1",
   "metadata": {
    "execution": {
     "iopub.execute_input": "2024-08-14T19:28:03.680322Z",
     "iopub.status.busy": "2024-08-14T19:28:03.680124Z",
     "iopub.status.idle": "2024-08-14T19:28:03.684425Z",
     "shell.execute_reply": "2024-08-14T19:28:03.683700Z",
     "shell.execute_reply.started": "2024-08-14T19:28:03.680303Z"
    }
   },
   "outputs": [],
   "source": [
    "block = ObservingBlock(\n",
    "    name = name,\n",
    "    program = program,\n",
    "    configuration_schema=configuration_schema,\n",
    "    scripts = scripts,\n",
    ")"
   ]
  },
  {
   "cell_type": "code",
   "execution_count": 10,
   "id": "be05dfd9-1c1e-471f-9032-18464d7781f5",
   "metadata": {
    "execution": {
     "iopub.execute_input": "2024-08-14T19:28:03.687595Z",
     "iopub.status.busy": "2024-08-14T19:28:03.687374Z",
     "iopub.status.idle": "2024-08-14T19:28:03.692606Z",
     "shell.execute_reply": "2024-08-14T19:28:03.691925Z",
     "shell.execute_reply.started": "2024-08-14T19:28:03.687576Z"
    },
    "scrolled": true
   },
   "outputs": [],
   "source": [
    "block.model_dump_json(indent=2)\n",
    "\n",
    "output_file_path = 'BLOCKS/'+name+'.json'\n",
    "\n",
    "with open(output_file_path, 'w') as file:\n",
    "    file.write(block.model_dump_json(indent=2))"
   ]
  }
 ],
 "metadata": {
  "kernelspec": {
   "display_name": "LSST",
   "language": "python",
   "name": "lsst"
  },
  "language_info": {
   "codemirror_mode": {
    "name": "ipython",
    "version": 3
   },
   "file_extension": ".py",
   "mimetype": "text/x-python",
   "name": "python",
   "nbconvert_exporter": "python",
   "pygments_lexer": "ipython3",
   "version": "3.11.9"
  }
 },
 "nbformat": 4,
 "nbformat_minor": 5
}

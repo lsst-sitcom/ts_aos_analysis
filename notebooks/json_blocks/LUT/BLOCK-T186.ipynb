{
 "cells": [
  {
   "cell_type": "markdown",
   "id": "0",
   "metadata": {},
   "source": [
    "### Notebook to create BLOCK-T186 for LUT in Azimuth with closed loop\n",
    "\n",
    "Created on: 2024-10-09\n",
    "\n",
    "Author: Guillem Megias"
   ]
  },
  {
   "cell_type": "code",
   "execution_count": null,
   "id": "1",
   "metadata": {},
   "outputs": [],
   "source": [
    "from lsst.ts.observing import ObservingBlock, ObservingScript \n",
    "from lsst.ts.aos.analysis import build_configuration_schema\n",
    "import os"
   ]
  },
  {
   "cell_type": "code",
   "execution_count": null,
   "id": "2",
   "metadata": {},
   "outputs": [],
   "source": [
    "current_path = os.getcwd()\n",
    "block_number = 'T186'\n",
    "program = \"BLOCK-T186\"\n",
    "reason = \"SITCOM-1490\"\n",
    "note = \"LUT_azimuth_closed_loop\"\n",
    "constraints = []"
   ]
  },
  {
   "cell_type": "markdown",
   "id": "3",
   "metadata": {},
   "source": [
    "### Define configuration schema"
   ]
  },
  {
   "cell_type": "code",
   "execution_count": null,
   "id": "4",
   "metadata": {},
   "outputs": [],
   "source": [
    "# Define the configurable properties that we will use in the configuration schema\n",
    "properties = {\n",
    "    \"run_filter\": {\n",
    "        \"description\": \"ComCam filter to use.\",\n",
    "        \"type\": \"string\",\n",
    "        \"default\": \"r_03\"\n",
    "    },\n",
    "    \"run_elevation\": {\n",
    "        \"description\": \"Elevation to use for the elevation sweep.\",\n",
    "        \"type\": \"number\",\n",
    "        \"default\": 80\n",
    "    },\n",
    "    \"run_dofs\": {\n",
    "        \"description\": \"Degrees of freedom to use for the elevation sweep.\",\n",
    "        \"type\": \"array\",\n",
    "        \"items\": {\n",
    "            \"type\": \"integer\",\n",
    "            \"minimum\": 0,\n",
    "            \"maximum\": 49,\n",
    "        },\n",
    "        \"default\": list(range(0, 50))\n",
    "    },\n",
    "    \"run_maxiter\": {\n",
    "        \"description\": \"Maximum number of iterations for the elevation sweep.\",\n",
    "        \"type\": \"integer\",\n",
    "        \"default\": 5\n",
    "    }\n",
    "}\n",
    "\n",
    "# Build the configuration schema for BLOCK-404\n",
    "configuration_schema = build_configuration_schema(block_number, properties)\n",
    "print(configuration_schema)"
   ]
  },
  {
   "cell_type": "markdown",
   "id": "5",
   "metadata": {},
   "source": [
    "### Define scripts and block"
   ]
  },
  {
   "cell_type": "code",
   "execution_count": null,
   "id": "6",
   "metadata": {},
   "outputs": [],
   "source": [
    "comcam_closedloop_script = ObservingScript(\n",
    "    name=\"maintel/close_loop_comcam.py\",\n",
    "    standard=True,\n",
    "    parameters= dict(\n",
    "        filter=\"$run_filter\",\n",
    "        program=\"$program\",\n",
    "        reason=reason,\n",
    "        note=note,\n",
    "        exposure_time=30.0,\n",
    "        max_iter=\"$run_maxiter\",\n",
    "        used_dofs=\"$run_dofs\",\n",
    "    )\n",
    ")\n",
    "\n",
    "stop_tracking_script = ObservingScript(\n",
    "    name=\"maintel/stop_tracking.py\",\n",
    "    standard=True,\n",
    "    parameters = dict()\n",
    ")"
   ]
  },
  {
   "cell_type": "code",
   "execution_count": null,
   "id": "7",
   "metadata": {},
   "outputs": [],
   "source": [
    "azimuth_positions = [-180, -150, -120, -90, -60, -30, 0, 30, 60, 90, 120, 150, 180]\n",
    "scripts = []\n",
    "\n",
    "for azimuth in azimuth_positions:\n",
    "    track_target_script = ObservingScript(\n",
    "        name=\"maintel/track_target.py\",\n",
    "        standard=True,\n",
    "        parameters = dict(\n",
    "            track_azel = dict(\n",
    "                az = azimuth,\n",
    "                el = '$run_elevation'\n",
    "            )\n",
    "        )\n",
    "    )\n",
    "\n",
    "    scripts.append(track_target_script)\n",
    "    scripts.append(comcam_closedloop_script)\n",
    "scripts.append(stop_tracking_script)"
   ]
  },
  {
   "cell_type": "code",
   "execution_count": null,
   "id": "8",
   "metadata": {},
   "outputs": [],
   "source": [
    "block = ObservingBlock(\n",
    "    name = program,\n",
    "    program = program,\n",
    "    configuration_schema=configuration_schema,\n",
    "    scripts = scripts,\n",
    ")"
   ]
  },
  {
   "cell_type": "markdown",
   "id": "9",
   "metadata": {},
   "source": [
    "### Save configurable block"
   ]
  },
  {
   "cell_type": "code",
   "execution_count": null,
   "id": "10",
   "metadata": {},
   "outputs": [],
   "source": [
    "block.model_dump_json(indent=2)\n",
    "\n",
    "output_file_path = f'{current_path}/aos/ts_config_ocs/Scheduler/observing_blocks_maintel/AOS/LUTs/{program}.json'\n",
    "\n",
    "with open(output_file_path, 'w') as file:\n",
    "    file.write(block.model_dump_json(indent=2))"
   ]
  }
 ],
 "metadata": {
  "kernelspec": {
   "display_name": "Python [conda env:lsst-scipipe-9.0.0-exact-ext] *",
   "language": "python",
   "name": "conda-env-lsst-scipipe-9.0.0-exact-ext-py"
  },
  "language_info": {
   "codemirror_mode": {
    "name": "ipython",
    "version": 3
   },
   "file_extension": ".py",
   "mimetype": "text/x-python",
   "name": "python",
   "nbconvert_exporter": "python",
   "pygments_lexer": "ipython3",
   "version": "3.11.9"
  }
 },
 "nbformat": 4,
 "nbformat_minor": 5
}

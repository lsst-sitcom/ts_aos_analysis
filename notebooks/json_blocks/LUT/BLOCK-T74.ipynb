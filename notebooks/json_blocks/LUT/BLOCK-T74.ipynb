{
 "cells": [
  {
   "cell_type": "markdown",
   "id": "3cb10db0-fa23-4436-baea-cfa130f90b6e",
   "metadata": {},
   "source": [
    "### Notebook to create BLOCK-T74 for LUT in Azimuth\n",
    "\n",
    "Created on: 2024-10-09\n",
    "\n",
    "Author: Guillem Megias"
   ]
  },
  {
   "cell_type": "code",
   "execution_count": 2,
   "id": "1e1ad851-fe21-4f10-9c67-965b2d5ca435",
   "metadata": {
    "execution": {
     "iopub.execute_input": "2024-08-14T19:28:03.503664Z",
     "iopub.status.busy": "2024-08-14T19:28:03.503494Z",
     "iopub.status.idle": "2024-08-14T19:28:03.624842Z",
     "shell.execute_reply": "2024-08-14T19:28:03.624086Z",
     "shell.execute_reply.started": "2024-08-14T19:28:03.503647Z"
    }
   },
   "outputs": [],
   "source": [
    "from lsst.ts.observing import ObservingBlock, ObservingScript \n",
    "from lsst.ts.aos.analysis import build_configuration_schema\n",
    "import os"
   ]
  },
  {
   "cell_type": "code",
   "execution_count": 1,
   "id": "25e5564f-ab6c-4456-b529-0446c2015e2b",
   "metadata": {
    "execution": {
     "iopub.execute_input": "2024-08-14T19:28:03.627289Z",
     "iopub.status.busy": "2024-08-14T19:28:03.627145Z",
     "iopub.status.idle": "2024-08-14T19:28:03.630689Z",
     "shell.execute_reply": "2024-08-14T19:28:03.629830Z",
     "shell.execute_reply.started": "2024-08-14T19:28:03.627276Z"
    }
   },
   "outputs": [],
   "source": [
    "current_path = os.getcwd()\n",
    "block_number = 'T74'\n",
    "program = \"BLOCK-T74\"\n",
    "reason = \"SITCOM-1490\"\n",
    "note = \"LUT_azimuth\"\n",
    "constraints = []"
   ]
  },
  {
   "cell_type": "markdown",
   "id": "f16aa81f",
   "metadata": {},
   "source": [
    "### Define configuration schema"
   ]
  },
  {
   "cell_type": "code",
   "execution_count": 3,
   "id": "f5e533ff-3675-49e9-8dd9-9e94013d4cab",
   "metadata": {
    "execution": {
     "iopub.execute_input": "2024-08-14T19:28:03.643248Z",
     "iopub.status.busy": "2024-08-14T19:28:03.643031Z",
     "iopub.status.idle": "2024-08-14T19:28:03.648083Z",
     "shell.execute_reply": "2024-08-14T19:28:03.647430Z",
     "shell.execute_reply.started": "2024-08-14T19:28:03.643227Z"
    }
   },
   "outputs": [
    {
     "name": "stdout",
     "output_type": "stream",
     "text": [
      "$schema: http://json-schema.org/draft-07/schema#\n",
      "title: BLOCK-T74 configuration\n",
      "description: Configuration for BLOCK-T74.\n",
      "type: object\n",
      "properties:\n",
      "  run_filter:\n",
      "    description: ComCam filter to use.\n",
      "    type: string\n",
      "    default: \"r_03\"\n",
      "  run_elevation:\n",
      "    description: Elevation to use for the elevation sweep.\n",
      "    type: number\n",
      "    default: 80\n",
      "\n"
     ]
    }
   ],
   "source": [
    "# Define the configurable properties that we will use in the configuration schema\n",
    "properties = {\n",
    "    \"run_filter\": {\n",
    "        \"description\": \"ComCam filter to use.\",\n",
    "        \"type\": \"string\",\n",
    "        \"default\": \"r_03\"\n",
    "    },\n",
    "    \"run_elevation\": {\n",
    "        \"description\": \"Elevation to use for the elevation sweep.\",\n",
    "        \"type\": \"number\",\n",
    "        \"default\": 80\n",
    "    }\n",
    "}\n",
    "\n",
    "# Build the configuration schema for BLOCK-404\n",
    "configuration_schema = build_configuration_schema(block_number, properties)\n",
    "print(configuration_schema)"
   ]
  },
  {
   "cell_type": "markdown",
   "id": "b6a9f21b",
   "metadata": {},
   "source": [
    "### Define scripts and block"
   ]
  },
  {
   "cell_type": "code",
   "execution_count": 4,
   "id": "62d59a22-4fe2-4db7-97df-f930762eb498",
   "metadata": {
    "execution": {
     "iopub.execute_input": "2024-08-14T19:28:03.658493Z",
     "iopub.status.busy": "2024-08-14T19:28:03.658292Z",
     "iopub.status.idle": "2024-08-14T19:28:03.662480Z",
     "shell.execute_reply": "2024-08-14T19:28:03.661741Z",
     "shell.execute_reply.started": "2024-08-14T19:28:03.658474Z"
    }
   },
   "outputs": [],
   "source": [
    "comcam_triplets_script = ObservingScript(\n",
    "    name=\"maintel/take_triplet_comcam.py\",\n",
    "    standard=True,\n",
    "    parameters= dict(\n",
    "        filter=\"$run_filter\",\n",
    "        program=\"$program\",\n",
    "        reason=reason,\n",
    "        note=note,\n",
    "    )\n",
    ")\n",
    "\n",
    "stop_tracking_script = ObservingScript(\n",
    "    name=\"maintel/stop_tracking.py\",\n",
    "    standard=True,\n",
    "    parameters = dict()\n",
    ")"
   ]
  },
  {
   "cell_type": "code",
   "execution_count": 6,
   "id": "fb4b8af7-7536-42ec-91df-4c1af9e383f2",
   "metadata": {
    "execution": {
     "iopub.execute_input": "2024-08-14T19:28:03.672566Z",
     "iopub.status.busy": "2024-08-14T19:28:03.672346Z",
     "iopub.status.idle": "2024-08-14T19:28:03.677154Z",
     "shell.execute_reply": "2024-08-14T19:28:03.676377Z",
     "shell.execute_reply.started": "2024-08-14T19:28:03.672544Z"
    }
   },
   "outputs": [],
   "source": [
    "azimuth_positions = [-180, -150, -120, -90, -60, -30, 0, 30, 60, 90, 120, 150, 180]\n",
    "scripts = []\n",
    "\n",
    "for azimuth in azimuth_positions:\n",
    "    track_target_script = ObservingScript(\n",
    "        name=\"maintel/track_target.py\",\n",
    "        standard=True,\n",
    "        parameters = dict(\n",
    "            track_azel = dict(\n",
    "                az = azimuth,\n",
    "                el = '$run_elevation'\n",
    "            )\n",
    "        )\n",
    "    )\n",
    "\n",
    "    scripts.append(track_target_script)\n",
    "    scripts.append(comcam_triplets_script)\n",
    "scripts.append(stop_tracking_script)"
   ]
  },
  {
   "cell_type": "code",
   "execution_count": 9,
   "id": "339b62d4-7477-424a-8cef-dcfc3a3f03a1",
   "metadata": {
    "execution": {
     "iopub.execute_input": "2024-08-14T19:28:03.680322Z",
     "iopub.status.busy": "2024-08-14T19:28:03.680124Z",
     "iopub.status.idle": "2024-08-14T19:28:03.684425Z",
     "shell.execute_reply": "2024-08-14T19:28:03.683700Z",
     "shell.execute_reply.started": "2024-08-14T19:28:03.680303Z"
    }
   },
   "outputs": [],
   "source": [
    "block = ObservingBlock(\n",
    "    name = program,\n",
    "    program = program,\n",
    "    configuration_schema=configuration_schema,\n",
    "    scripts = scripts,\n",
    ")"
   ]
  },
  {
   "cell_type": "markdown",
   "id": "f8242919",
   "metadata": {},
   "source": [
    "### Save configurable block"
   ]
  },
  {
   "cell_type": "code",
   "execution_count": 10,
   "id": "be05dfd9-1c1e-471f-9032-18464d7781f5",
   "metadata": {
    "execution": {
     "iopub.execute_input": "2024-08-14T19:28:03.687595Z",
     "iopub.status.busy": "2024-08-14T19:28:03.687374Z",
     "iopub.status.idle": "2024-08-14T19:28:03.692606Z",
     "shell.execute_reply": "2024-08-14T19:28:03.691925Z",
     "shell.execute_reply.started": "2024-08-14T19:28:03.687576Z"
    },
    "scrolled": true
   },
   "outputs": [],
   "source": [
    "block.model_dump_json(indent=2)\n",
    "\n",
    "output_file_path = f'{current_path}/aos/ts_config_ocs/Scheduler/observing_blocks_maintel/AOS/LUTs/{program}.json'\n",
    "\n",
    "with open(output_file_path, 'w') as file:\n",
    "    file.write(block.model_dump_json(indent=2))"
   ]
  }
 ],
 "metadata": {
  "kernelspec": {
   "display_name": "Python [conda env:lsst-scipipe-9.0.0-exact-ext] *",
   "language": "python",
   "name": "conda-env-lsst-scipipe-9.0.0-exact-ext-py"
  },
  "language_info": {
   "codemirror_mode": {
    "name": "ipython",
    "version": 3
   },
   "file_extension": ".py",
   "mimetype": "text/x-python",
   "name": "python",
   "nbconvert_exporter": "python",
   "pygments_lexer": "ipython3",
   "version": "3.11.9"
  }
 },
 "nbformat": 4,
 "nbformat_minor": 5
}

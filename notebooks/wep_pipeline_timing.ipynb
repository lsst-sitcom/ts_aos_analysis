{
 "cells": [
  {
   "cell_type": "markdown",
   "id": "1d9580b3-8692-4be2-8e45-9994b6457c59",
   "metadata": {},
   "source": [
    "# Evaluting timing of the WEP pipeline on USDF\n",
    "\n",
    "Owner: Bryce Kalmbach ([@jbkalmbach)](https://github.com/lsst-ts/ts_aos_analysis/issues/new?body=@jbkalmbach)\n",
    "\n",
    "Last Verified to Run: 2024-08-22\n",
    "\n",
    "Software Versions:\n",
    "* `lsst_distrib`: **w_2024_32**\n",
    "\n",
    "Requirements:\n",
    "* `lsst_distrib`\n",
    "* `ts_aos_analysis`\n",
    "\n",
    "## Notebook Objective\n",
    "This notebook calculates the timing to run the AOS Wavefront Estimation Pipeline (WEP).\n",
    "We evaluate the timing based upon the information stored in the butler metadata as each task runs.\n",
    "\n",
    "## Logistics\n",
    "This notebook as written can be run on USDF using the AOS butler at `/sdf/data/rubin/repo/aos_imsim/`."
   ]
  },
  {
   "cell_type": "markdown",
   "id": "f4e572c3-fa88-459e-9f7e-9629557d25a2",
   "metadata": {},
   "source": [
    "## Imports"
   ]
  },
  {
   "cell_type": "code",
   "execution_count": null,
   "id": "bf9c1781-6224-45ad-a40a-4d6241f11b0e",
   "metadata": {},
   "outputs": [],
   "source": [
    "import numpy as np\n",
    "from lsst.daf.butler import Butler\n",
    "from astropy.time import Time\n",
    "import matplotlib.pyplot as plt\n",
    "from matplotlib.patches import Patch\n",
    "%matplotlib widget"
   ]
  },
  {
   "cell_type": "code",
   "execution_count": null,
   "id": "bbe50995-55ee-4fd5-ace4-99566f08f6aa",
   "metadata": {},
   "outputs": [],
   "source": [
    "from lsst.ts.aos.analysis import get_task_metadata, get_timing_from_metadata"
   ]
  },
  {
   "cell_type": "markdown",
   "id": "88dbdf9f-9fd7-4890-99e2-88d1498cf071",
   "metadata": {},
   "source": [
    "## Load Test Data"
   ]
  },
  {
   "cell_type": "code",
   "execution_count": null,
   "id": "6d897c74-bb82-43fa-befe-61c8c5418681",
   "metadata": {},
   "outputs": [],
   "source": [
    "butler_path = '/sdf/data/rubin/repo/aos_imsim/'\n",
    "collection = 'sitcomtn-135/directDetectTimingTest_SourceLimit5'"
   ]
  },
  {
   "cell_type": "code",
   "execution_count": null,
   "id": "3d779e92-79aa-4c53-b0a4-aac9bbd05aa9",
   "metadata": {},
   "outputs": [],
   "source": [
    "exposure_list = [7024072600012, 7024072600010]\n",
    "detector_list = np.arange(9) # ComCam Data"
   ]
  },
  {
   "cell_type": "code",
   "execution_count": null,
   "id": "def8c461-1a52-4549-8ccc-1a9d9d2acd7c",
   "metadata": {},
   "outputs": [],
   "source": [
    "# If you ran the pipeline with additional aggregate and plotting tasks uncomment required tasks\n",
    "task_list = [\n",
    "    \"isr\",\n",
    "    \"generateDonutDirectDetectTask\",\n",
    "    # \"aggregateDonutCatalogsTask\",\n",
    "    \"cutOutDonutsScienceSensorTask\",\n",
    "    # \"aggregateDonutStampsTask\",\n",
    "    # \"plotDonutTask\",\n",
    "    \"calcZernikesTask\",\n",
    "    # \"aggregateZernikesTask\",\n",
    "    # \"aggregateAOSVisitTableTask\",\n",
    "    # \"plotAOSTask\",\n",
    "]"
   ]
  },
  {
   "cell_type": "code",
   "execution_count": null,
   "id": "38047278-afb2-4f46-b683-e933a4ceee8a",
   "metadata": {},
   "outputs": [],
   "source": [
    "# If you ran the pipeline with additional aggregate and plotting tasks uncomment required tasks\n",
    "colors = {\n",
    "    'isr': 'k',\n",
    "    'generateDonutDirectDetectTask': 'r',\n",
    "    # 'aggregateDonutCatalogsTask': 'g',\n",
    "    'cutOutDonutsScienceSensorTask': 'b',\n",
    "    # 'aggregateDonutStampsTask': 'c',\n",
    "    # 'plotDonutTask': 'm',\n",
    "    'calcZernikesTask': 'y',\n",
    "    # 'aggregateZernikesTask': 'orange',\n",
    "    # 'aggregateAOSVisitTableTask': 'gray',\n",
    "    # 'plotAOSTask': 'pink'\n",
    "}"
   ]
  },
  {
   "cell_type": "code",
   "execution_count": null,
   "id": "39cd5701-5800-4c31-8207-c0e55c011775",
   "metadata": {},
   "outputs": [],
   "source": [
    "task_metadata = get_task_metadata(butler_path, collection, task_list, exposure_list, detector_list)\n",
    "jobs, first_job, last_job, longest_job_5_donuts = get_timing_from_metadata(task_metadata)\n",
    "t0 = Time(min(j[1] for j in jobs)[:-6]).mjd\n",
    "\n",
    "# Plot\n",
    "plt.figure(figsize=(9,9))\n",
    "\n",
    "for ijob, job in enumerate(jobs):\n",
    "    start = (Time(job[1][:-6]).mjd-t0) * 86400\n",
    "    end = (Time(job[2][:-6]).mjd-t0) * 86400\n",
    "    plt.fill_between([start, end], ijob, ijob+1, color=colors[job[0]])\n",
    "\n",
    "# Create custom legend\n",
    "legend_elements = []\n",
    "for k, v in colors.items():\n",
    "    legend_elements.append(\n",
    "        Patch(facecolor=v, label=k)\n",
    "    )\n",
    "\n",
    "# Calculate time between tasks\n",
    "for first, last in zip(first_job[1:], last_job[:-1]):\n",
    "    start = (Time(first[:-6]).mjd-t0) * 86400\n",
    "    end = (Time(last[:-6]).mjd-t0) * 86400\n",
    "    plt.axvline(start)\n",
    "    plt.axvline(end)\n",
    "    plt.text(end, 0.5, f'{(start-end):.2f}s', size=16, weight='bold')\n",
    "    \n",
    "# Add the legend to the plot\n",
    "plt.legend(handles=legend_elements,)\n",
    "plt.xlabel(\"Time (s)\")\n",
    "plt.ylabel(\"Task #\")\n",
    "plt.title('AOS Pipeline on one pair of ComCam visits (9 det*2 exp=18 raws, run w/ 18 processes).')\n",
    "plt.tight_layout()"
   ]
  },
  {
   "cell_type": "code",
   "execution_count": null,
   "id": "0a6835d4-8dd7-43b9-be2b-9295ab7ae6e4",
   "metadata": {},
   "outputs": [],
   "source": [
    "fig = plt.figure()\n",
    "t_start = 0\n",
    "i = 0\n",
    "for job_time, task in zip(longest_job_5_donuts, task_list):\n",
    "    plt.fill_between([t_start, t_start+job_time], i, i+1, color=colors[task], label=task)\n",
    "    t_start += job_time\n",
    "    i += 1\n",
    "plt.yticks([0.5, 1.5, 2.5, 3.5], ['ISR', 'Catalog\\nCreation', 'Stamp\\nGeneration', 'Zernike\\nEstimation\\n(5 Sources)'], size=9)\n",
    "plt.legend()\n",
    "plt.xlabel('Time (sec)')\n",
    "plt.title('Expected Maximum Runtime per Task Type')"
   ]
  },
  {
   "cell_type": "code",
   "execution_count": null,
   "id": "91e1d69b-f12f-45cb-94ae-b417d072c2e8",
   "metadata": {},
   "outputs": [],
   "source": []
  }
 ],
 "metadata": {
  "kernelspec": {
   "display_name": "LSST",
   "language": "python",
   "name": "lsst"
  },
  "language_info": {
   "codemirror_mode": {
    "name": "ipython",
    "version": 3
   },
   "file_extension": ".py",
   "mimetype": "text/x-python",
   "name": "python",
   "nbconvert_exporter": "python",
   "pygments_lexer": "ipython3",
   "version": "3.11.9"
  }
 },
 "nbformat": 4,
 "nbformat_minor": 5
}
